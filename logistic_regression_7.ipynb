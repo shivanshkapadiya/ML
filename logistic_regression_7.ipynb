{
  "nbformat": 4,
  "nbformat_minor": 0,
  "metadata": {
    "colab": {
      "provenance": [],
      "authorship_tag": "ABX9TyOtlxpuaAIBuuONjFE0iSsa",
      "include_colab_link": true
    },
    "kernelspec": {
      "name": "python3",
      "display_name": "Python 3"
    },
    "language_info": {
      "name": "python"
    }
  },
  "cells": [
    {
      "cell_type": "markdown",
      "metadata": {
        "id": "view-in-github",
        "colab_type": "text"
      },
      "source": [
        "<a href=\"https://colab.research.google.com/github/shivanshkapadiya/ML/blob/main/logistic_regression_7.ipynb\" target=\"_parent\"><img src=\"https://colab.research.google.com/assets/colab-badge.svg\" alt=\"Open In Colab\"/></a>"
      ]
    },
    {
      "cell_type": "code",
      "execution_count": 1,
      "metadata": {
        "colab": {
          "base_uri": "https://localhost:8080/"
        },
        "id": "7KsGtcWtRffI",
        "outputId": "dcd864bc-9f70-4965-c223-cb2fc133968b"
      },
      "outputs": [
        {
          "output_type": "stream",
          "name": "stdout",
          "text": [
            "Accuracy: 0.3333333333333333\n",
            "Classification Report:\n",
            "               precision    recall  f1-score   support\n",
            "\n",
            "           0       0.00      0.00      0.00         2\n",
            "           1       0.33      1.00      0.50         1\n",
            "\n",
            "    accuracy                           0.33         3\n",
            "   macro avg       0.17      0.50      0.25         3\n",
            "weighted avg       0.11      0.33      0.17         3\n",
            "\n",
            "\n",
            "Message: You have won a free laptop! Click here to claim.\n",
            "→ Prediction: Spam\n",
            "\n",
            "Message: Hi, just checking in about the meeting schedule.\n",
            "→ Prediction: Spam\n",
            "\n",
            "Message: Your package is out for delivery today.\n",
            "→ Prediction: Spam\n"
          ]
        },
        {
          "output_type": "stream",
          "name": "stderr",
          "text": [
            "/usr/local/lib/python3.11/dist-packages/sklearn/metrics/_classification.py:1565: UndefinedMetricWarning: Precision is ill-defined and being set to 0.0 in labels with no predicted samples. Use `zero_division` parameter to control this behavior.\n",
            "  _warn_prf(average, modifier, f\"{metric.capitalize()} is\", len(result))\n",
            "/usr/local/lib/python3.11/dist-packages/sklearn/metrics/_classification.py:1565: UndefinedMetricWarning: Precision is ill-defined and being set to 0.0 in labels with no predicted samples. Use `zero_division` parameter to control this behavior.\n",
            "  _warn_prf(average, modifier, f\"{metric.capitalize()} is\", len(result))\n",
            "/usr/local/lib/python3.11/dist-packages/sklearn/metrics/_classification.py:1565: UndefinedMetricWarning: Precision is ill-defined and being set to 0.0 in labels with no predicted samples. Use `zero_division` parameter to control this behavior.\n",
            "  _warn_prf(average, modifier, f\"{metric.capitalize()} is\", len(result))\n"
          ]
        }
      ],
      "source": [
        "# 📦 Required Libraries\n",
        "import pandas as pd\n",
        "from sklearn.model_selection import train_test_split\n",
        "from sklearn.feature_extraction.text import CountVectorizer\n",
        "from sklearn.linear_model import LogisticRegression\n",
        "from sklearn.metrics import accuracy_score, classification_report\n",
        "\n",
        "# 📄 Sample Dataset (inbuilt simulation)\n",
        "data = {\n",
        "    'message': [\n",
        "        \"Congratulations! You've won a $1000 Walmart gift card. Go to http://bit.ly/123456 to claim now.\",\n",
        "        \"Hey, are we still on for lunch today?\",\n",
        "        \"URGENT! Your account has been compromised. Reset your password immediately.\",\n",
        "        \"Can you review the document I sent you yesterday?\",\n",
        "        \"You have been selected for a prize. Call now!\",\n",
        "        \"Let's meet at 5 PM near the cafe.\",\n",
        "        \"Limited time offer! Buy one get one free. Click now!\",\n",
        "        \"See you at the gym in the morning.\",\n",
        "        \"Update your billing info to avoid service interruption.\",\n",
        "        \"Reminder: your appointment is scheduled for 10 AM tomorrow.\"\n",
        "    ],\n",
        "    'label': [1, 0, 1, 0, 1, 0, 1, 0, 1, 0]  # 1: Spam, 0: Ham\n",
        "}\n",
        "\n",
        "# Convert to DataFrame\n",
        "df = pd.DataFrame(data)\n",
        "\n",
        "# 🔄 Train-Test Split\n",
        "X_train, X_test, y_train, y_test = train_test_split(\n",
        "    df['message'], df['label'], test_size=0.3, random_state=42)\n",
        "\n",
        "# ✉️ Text Vectorization\n",
        "vectorizer = CountVectorizer(stop_words='english')\n",
        "X_train_vec = vectorizer.fit_transform(X_train)\n",
        "X_test_vec = vectorizer.transform(X_test)\n",
        "\n",
        "# 🤖 Logistic Regression Model\n",
        "model = LogisticRegression()\n",
        "model.fit(X_train_vec, y_train)\n",
        "\n",
        "# 🔍 Evaluation\n",
        "y_pred = model.predict(X_test_vec)\n",
        "print(\"Accuracy:\", accuracy_score(y_test, y_pred))\n",
        "print(\"Classification Report:\\n\", classification_report(y_test, y_pred))\n",
        "\n",
        "# 📧 Custom Test\n",
        "test_msgs = [\n",
        "    \"You have won a free laptop! Click here to claim.\",\n",
        "    \"Hi, just checking in about the meeting schedule.\",\n",
        "    \"Your package is out for delivery today.\"\n",
        "]\n",
        "test_vec = vectorizer.transform(test_msgs)\n",
        "preds = model.predict(test_vec)\n",
        "\n",
        "for msg, label in zip(test_msgs, preds):\n",
        "    print(f\"\\nMessage: {msg}\\n→ Prediction: {'Spam' if label else 'Ham'}\")\n"
      ]
    },
    {
      "cell_type": "code",
      "source": [],
      "metadata": {
        "id": "c53HzFoZRggV"
      },
      "execution_count": null,
      "outputs": []
    }
  ]
}